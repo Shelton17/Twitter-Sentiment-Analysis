{
 "cells": [
  {
   "cell_type": "markdown",
   "metadata": {},
   "source": [
    "# Introduction\n",
    "\n",
    "For this simple excercise we arre requireed to use tweepy to access twitter extract information from it perform a sentiment analysis and display our findings\n",
    "I will perform and display the results of sentiment analysis using textblob and the NaiveBayes analyser.\n",
    "The twitter accounts chosen are:\n",
    "    - Dave2D: tech youtuber\n",
    "    - JColeNC: the twitter handle of the hip-hop rapper Jermaine Cole\n",
    "    - MKBHD: tech youtuber\n",
    "    - BBCNews: one of the accounts for the broadcasting company"
   ]
  },
  {
   "cell_type": "markdown",
   "metadata": {},
   "source": [
    "## Connecting to the twitter developer account\n"
   ]
  },
  {
   "cell_type": "code",
   "execution_count": 1,
   "metadata": {},
   "outputs": [],
   "source": [
    "import tweepy\n",
    "import keys"
   ]
  },
  {
   "cell_type": "code",
   "execution_count": 2,
   "metadata": {},
   "outputs": [],
   "source": [
    "auth = tweepy.OAuthHandler(keys.consumer_key, keys.consumer_secret)"
   ]
  },
  {
   "cell_type": "code",
   "execution_count": 3,
   "metadata": {},
   "outputs": [],
   "source": [
    "auth.set_access_token(keys.access_token,keys.access_token_secret)"
   ]
  },
  {
   "cell_type": "code",
   "execution_count": 4,
   "metadata": {},
   "outputs": [],
   "source": [
    "api= tweepy.API(auth,wait_on_rate_limit=True,wait_on_rate_limit_notify=True)"
   ]
  },
  {
   "cell_type": "markdown",
   "metadata": {},
   "source": [
    "Now that we have connected to twitter we can go ahead and get the information we need for our accounts."
   ]
  },
  {
   "cell_type": "markdown",
   "metadata": {},
   "source": [
    "## Performing Sentiment Analysis Using TextBlob"
   ]
  },
  {
   "cell_type": "code",
   "execution_count": 5,
   "metadata": {},
   "outputs": [],
   "source": [
    "from textblob import TextBlob"
   ]
  },
  {
   "cell_type": "code",
   "execution_count": 6,
   "metadata": {},
   "outputs": [],
   "source": [
    "dave_acc =  api.get_user('Dave2D')\n",
    "jcole_acc =  api.get_user('JColeNC')\n",
    "mkbhd_acc =  api.get_user('MKBHD')\n",
    "bbc_acc =  api.get_user('BBCNews')"
   ]
  },
  {
   "cell_type": "code",
   "execution_count": 7,
   "metadata": {},
   "outputs": [
    {
     "data": {
      "text/plain": [
       "'Dave Lee'"
      ]
     },
     "execution_count": 7,
     "metadata": {},
     "output_type": "execute_result"
    }
   ],
   "source": [
    "dave_acc.name"
   ]
  },
  {
   "cell_type": "code",
   "execution_count": 8,
   "metadata": {},
   "outputs": [
    {
     "data": {
      "text/plain": [
       "'J. Cole'"
      ]
     },
     "execution_count": 8,
     "metadata": {},
     "output_type": "execute_result"
    }
   ],
   "source": [
    "jcole_acc.name"
   ]
  },
  {
   "cell_type": "code",
   "execution_count": 9,
   "metadata": {},
   "outputs": [
    {
     "data": {
      "text/plain": [
       "'Marques Brownlee'"
      ]
     },
     "execution_count": 9,
     "metadata": {},
     "output_type": "execute_result"
    }
   ],
   "source": [
    "mkbhd_acc.name"
   ]
  },
  {
   "cell_type": "code",
   "execution_count": 10,
   "metadata": {},
   "outputs": [
    {
     "data": {
      "text/plain": [
       "'BBC News (UK)'"
      ]
     },
     "execution_count": 10,
     "metadata": {},
     "output_type": "execute_result"
    }
   ],
   "source": [
    "bbc_acc.name"
   ]
  },
  {
   "cell_type": "markdown",
   "metadata": {},
   "source": [
    "##### Getting the statuses in text"
   ]
  },
  {
   "cell_type": "code",
   "execution_count": 11,
   "metadata": {},
   "outputs": [
    {
     "data": {
      "text/plain": [
       "\"Titanic letter by 'brave' pastor John Harper sells for £42k https://t.co/arixgMzj38\""
      ]
     },
     "execution_count": 11,
     "metadata": {},
     "output_type": "execute_result"
    }
   ],
   "source": [
    "bbc_status = bbc_acc.status.text\n",
    "bbc_status"
   ]
  },
  {
   "cell_type": "code",
   "execution_count": 12,
   "metadata": {},
   "outputs": [
    {
     "data": {
      "text/plain": [
       "'☁️☁️☁️☁️☁️☁️☁️☁️☁️ DREAMER ☁️☁️☁️☁️☁️☁️☁️☁️☁️ https://t.co/zeWsSTFXSt'"
      ]
     },
     "execution_count": 12,
     "metadata": {},
     "output_type": "execute_result"
    }
   ],
   "source": [
    "jcole_status = jcole_acc.status.text\n",
    "jcole_status"
   ]
  },
  {
   "cell_type": "code",
   "execution_count": 13,
   "metadata": {},
   "outputs": [
    {
     "data": {
      "text/plain": [
       "'@UltraLinx How’s the wrap holding up? Looks incredibly clean here'"
      ]
     },
     "execution_count": 13,
     "metadata": {},
     "output_type": "execute_result"
    }
   ],
   "source": [
    "mkbhd_status = mkbhd_acc.status.text\n",
    "mkbhd_status"
   ]
  },
  {
   "cell_type": "code",
   "execution_count": 14,
   "metadata": {},
   "outputs": [
    {
     "data": {
      "text/plain": [
       "'@excessorizeme @imPatrickT that croissant thing looks crazy cool'"
      ]
     },
     "execution_count": 14,
     "metadata": {},
     "output_type": "execute_result"
    }
   ],
   "source": [
    "dave_status = dave_acc.status.text\n",
    "dave_status"
   ]
  },
  {
   "cell_type": "markdown",
   "metadata": {},
   "source": [
    "##### Analyzing"
   ]
  },
  {
   "cell_type": "markdown",
   "metadata": {},
   "source": [
    "###### BBC"
   ]
  },
  {
   "cell_type": "code",
   "execution_count": 15,
   "metadata": {},
   "outputs": [
    {
     "data": {
      "text/plain": [
       "TextBlob(\"Titanic letter by 'brave' pastor John Harper sells for £42k https://t.co/arixgMzj38\")"
      ]
     },
     "execution_count": 15,
     "metadata": {},
     "output_type": "execute_result"
    }
   ],
   "source": [
    "blob_bbc = TextBlob(bbc_status)\n",
    "blob_bbc\n"
   ]
  },
  {
   "cell_type": "code",
   "execution_count": 16,
   "metadata": {},
   "outputs": [
    {
     "data": {
      "text/plain": [
       "Sentiment(polarity=0.8, subjectivity=1.0)"
      ]
     },
     "execution_count": 16,
     "metadata": {},
     "output_type": "execute_result"
    }
   ],
   "source": [
    "blob_bbc.sentiment"
   ]
  },
  {
   "cell_type": "markdown",
   "metadata": {},
   "source": [
    "##### JCole"
   ]
  },
  {
   "cell_type": "code",
   "execution_count": 17,
   "metadata": {},
   "outputs": [
    {
     "data": {
      "text/plain": [
       "TextBlob(\"☁️☁️☁️☁️☁️☁️☁️☁️☁️ DREAMER ☁️☁️☁️☁️☁️☁️☁️☁️☁️ https://t.co/zeWsSTFXSt\")"
      ]
     },
     "execution_count": 17,
     "metadata": {},
     "output_type": "execute_result"
    }
   ],
   "source": [
    "blob_cole = TextBlob(jcole_status)\n",
    "blob_cole"
   ]
  },
  {
   "cell_type": "code",
   "execution_count": 18,
   "metadata": {},
   "outputs": [
    {
     "data": {
      "text/plain": [
       "Sentiment(polarity=0.0, subjectivity=0.0)"
      ]
     },
     "execution_count": 18,
     "metadata": {},
     "output_type": "execute_result"
    }
   ],
   "source": [
    "blob_cole.sentiment"
   ]
  },
  {
   "cell_type": "markdown",
   "metadata": {},
   "source": [
    "##### MKBHD"
   ]
  },
  {
   "cell_type": "code",
   "execution_count": 19,
   "metadata": {},
   "outputs": [
    {
     "data": {
      "text/plain": [
       "TextBlob(\"@UltraLinx How’s the wrap holding up? Looks incredibly clean here\")"
      ]
     },
     "execution_count": 19,
     "metadata": {},
     "output_type": "execute_result"
    }
   ],
   "source": [
    "blob_mkbhd = TextBlob(mkbhd_status)\n",
    "blob_mkbhd"
   ]
  },
  {
   "cell_type": "code",
   "execution_count": 20,
   "metadata": {},
   "outputs": [
    {
     "data": {
      "text/plain": [
       "Sentiment(polarity=0.3666666666666667, subjectivity=0.7000000000000001)"
      ]
     },
     "execution_count": 20,
     "metadata": {},
     "output_type": "execute_result"
    }
   ],
   "source": [
    "blob_mkbhd.sentiment"
   ]
  },
  {
   "cell_type": "markdown",
   "metadata": {},
   "source": [
    "##### Dave2D"
   ]
  },
  {
   "cell_type": "code",
   "execution_count": 21,
   "metadata": {},
   "outputs": [
    {
     "data": {
      "text/plain": [
       "TextBlob(\"@excessorizeme @imPatrickT that croissant thing looks crazy cool\")"
      ]
     },
     "execution_count": 21,
     "metadata": {},
     "output_type": "execute_result"
    }
   ],
   "source": [
    "blob_dave = TextBlob(dave_status)\n",
    "blob_dave"
   ]
  },
  {
   "cell_type": "code",
   "execution_count": 22,
   "metadata": {},
   "outputs": [
    {
     "data": {
      "text/plain": [
       "Sentiment(polarity=-0.125, subjectivity=0.775)"
      ]
     },
     "execution_count": 22,
     "metadata": {},
     "output_type": "execute_result"
    }
   ],
   "source": [
    "blob_dave.sentiment"
   ]
  },
  {
   "cell_type": "markdown",
   "metadata": {},
   "source": [
    "## Performing Sentiment Analysis Using NaiveBayesAnalyser"
   ]
  },
  {
   "cell_type": "code",
   "execution_count": 23,
   "metadata": {},
   "outputs": [],
   "source": [
    "from textblob.sentiments import NaiveBayesAnalyzer"
   ]
  },
  {
   "cell_type": "code",
   "execution_count": 24,
   "metadata": {},
   "outputs": [],
   "source": [
    "def blob_info(b):\n",
    "    p = b.polarity\n",
    "    s = b.subjectivity\n",
    "    if p == 0.0:\n",
    "        pr = \"Neutral\"\n",
    "    elif p > 0:\n",
    "        pr = \"Positive\"\n",
    "    elif p < 0:\n",
    "        pr = \"Negative\"\n",
    "    if s == 0.0:\n",
    "        sr = \"Subjective\"\n",
    "    else:\n",
    "        sr = \"Objective\"\n",
    "    print('Polarity: {}({})\\nSubjectivity: {}({})'.format(pr,p,sr,s))\n"
   ]
  },
  {
   "cell_type": "code",
   "execution_count": 25,
   "metadata": {},
   "outputs": [],
   "source": [
    "def sentiment(userlist):\n",
    "    for u in userlist:\n",
    "        current = api.get_user(u)\n",
    "        print(current.name)\n",
    "        print(current.status.text)\n",
    "        blob_info(TextBlob(current.status.text))\n",
    "        print(TextBlob(current.status.text, analyzer=NaiveBayesAnalyzer()).\n",
    "        sentiment)\n",
    "        print('---------------------------------')"
   ]
  },
  {
   "cell_type": "code",
   "execution_count": 26,
   "metadata": {},
   "outputs": [
    {
     "name": "stdout",
     "output_type": "stream",
     "text": [
      "Dave Lee\n",
      "@excessorizeme @imPatrickT that croissant thing looks crazy cool\n",
      "Polarity: Negative(-0.125)\n",
      "Subjectivity: Objective(0.775)\n",
      "Sentiment(classification='neg', p_pos=0.10646539641654, p_neg=0.8935346035834612)\n",
      "---------------------------------\n",
      "Marques Brownlee\n",
      "@UltraLinx How’s the wrap holding up? Looks incredibly clean here\n",
      "Polarity: Positive(0.3666666666666667)\n",
      "Subjectivity: Objective(0.7000000000000001)\n",
      "Sentiment(classification='pos', p_pos=0.5893107533046477, p_neg=0.4106892466953528)\n",
      "---------------------------------\n",
      "J. Cole\n",
      "☁️☁️☁️☁️☁️☁️☁️☁️☁️ DREAMER ☁️☁️☁️☁️☁️☁️☁️☁️☁️ https://t.co/zeWsSTFXSt\n",
      "Polarity: Neutral(0.0)\n",
      "Subjectivity: Subjective(0.0)\n",
      "Sentiment(classification='neg', p_pos=0.16666666666666646, p_neg=0.833333333333333)\n",
      "---------------------------------\n",
      "BBC News (UK)\n",
      "Titanic letter by 'brave' pastor John Harper sells for £42k https://t.co/arixgMzj38\n",
      "Polarity: Positive(0.8)\n",
      "Subjectivity: Objective(1.0)\n",
      "Sentiment(classification='pos', p_pos=0.9311272609078344, p_neg=0.06887273909216433)\n",
      "---------------------------------\n"
     ]
    }
   ],
   "source": [
    "sentiment(['Dave2D','MKBHD','JColeNC','BBCNews'])"
   ]
  },
  {
   "cell_type": "markdown",
   "metadata": {},
   "source": [
    "| Account          | Status                                                                              | Classification | Positive            | Negative            |\n",
    "|------------------|-------------------------------------------------------------------------------------|----------------|---------------------|---------------------|\n",
    "| Dave Lee         | @excessorizeme @imPatrickT that croissant thing looks crazy cool                    | Negative       | 0.10646539641654    | 0.8935346035834612  |\n",
    "| Marques Brownlee | @UltraLinx How’s the wrap holding up? Looks incredibly clean here                   | Positive       | 0.5893107533046477  | 0.4106892466953528  |\n",
    "| J. Cole          | ☁️☁️☁️☁️☁️☁️☁️☁️☁️ DREAMER ☁️☁️☁️☁️☁️☁️☁️☁️☁️ https://t.co/zeWsSTFXSt                                 | Neutral        | 0.16666666666666646 | 0.833333333333      |\n",
    "| BBC News (UK)    | Titanic letter by 'brave' pastor John Harper sells for £42k https://t.co/arixgMzj38 | Positive       | 0.9311272609078344  | 0.06887273909216433 |"
   ]
  },
  {
   "cell_type": "markdown",
   "metadata": {},
   "source": [
    "# Conclusion\n",
    "\n",
    "The sentiment analysis on the twitter statuses highlights afew limitations to the analysers we have:\n",
    "    * Emojis cloud the ability of the analyser to best interprete the text\n",
    "    * The analysers however advanced aren't able to pick up on certain slang such as 'crazy cool' being flagged as negative instead of a positive"
   ]
  },
  {
   "cell_type": "code",
   "execution_count": null,
   "metadata": {},
   "outputs": [],
   "source": []
  }
 ],
 "metadata": {
  "kernelspec": {
   "display_name": "Python 3",
   "language": "python",
   "name": "python3"
  },
  "language_info": {
   "codemirror_mode": {
    "name": "ipython",
    "version": 3
   },
   "file_extension": ".py",
   "mimetype": "text/x-python",
   "name": "python",
   "nbconvert_exporter": "python",
   "pygments_lexer": "ipython3",
   "version": "3.7.6"
  }
 },
 "nbformat": 4,
 "nbformat_minor": 4
}
